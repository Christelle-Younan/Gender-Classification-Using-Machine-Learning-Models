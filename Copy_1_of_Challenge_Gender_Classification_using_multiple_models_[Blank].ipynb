{
  "cells": [
    {
      "cell_type": "markdown",
      "source": [
        "# Gender Classification Using Multiple Models\n",
        "\n",
        "\n",
        "---\n",
        "\n",
        "\n",
        "© 2024, Zaka AI, Inc. All Rights Reserved"
      ],
      "metadata": {
        "id": "g51Yx0dtn3lb"
      },
      "id": "g51Yx0dtn3lb"
    },
    {
      "cell_type": "markdown",
      "source": [
        "In this notebook, you will predict the class of the gender, using this [Gender Classification Dataset](https://drive.google.com/file/d/1W9S0ubAjFEuZ-CyGO_BbVbDISoHPy-1D/view?usp=sharing), based on a couple of other factors mentioned below, using multiple supervised learning classification algorithms. At the end, you will apply hypothesis testing to compare between the best models."
      ],
      "metadata": {
        "id": "KzcnnUc4oExM"
      },
      "id": "KzcnnUc4oExM"
    },
    {
      "cell_type": "markdown",
      "source": [
        "The dataset contains the following features:\n",
        "\n",
        "- **long_hair**: [0 for No, 1 for Yes]\n",
        "- **forehead_width_cm**: Width of the forehead in centimeters.\n",
        "- **forehead_height_cm**: Height of the forehead in centimeters.\n",
        "- **nose_wide**: [0 for No, 1 for Yes]\n",
        "- **nose_long**: [0 for No, 1 for Yes]\n",
        "- **lips_thin**:[0 for No, 1 for Yes]\n",
        "- **distance_nose_to_lip_long**: [0 for No, 1 for Yes]\n",
        "- **gender**: Gender of the individual. [Male, Female]"
      ],
      "metadata": {
        "id": "5OwlC2g6pcr3"
      },
      "id": "5OwlC2g6pcr3"
    },
    {
      "cell_type": "markdown",
      "source": [
        "#Import Libraries"
      ],
      "metadata": {
        "id": "ijp-Ibvx9RyT"
      },
      "id": "ijp-Ibvx9RyT"
    },
    {
      "cell_type": "markdown",
      "metadata": {
        "id": "owr4lMwy_yNw"
      },
      "source": [
        "**Import Libraries**"
      ],
      "id": "owr4lMwy_yNw"
    },
    {
      "cell_type": "code",
      "execution_count": null,
      "metadata": {
        "id": "2tniBMmF_0qV",
        "colab": {
          "base_uri": "https://localhost:8080/"
        },
        "outputId": "cde06a88-4f3c-4e9c-c61d-aadd3095160d"
      },
      "outputs": [
        {
          "output_type": "stream",
          "name": "stderr",
          "text": [
            "Installing package into ‘/usr/local/lib/R/site-library’\n",
            "(as ‘lib’ is unspecified)\n",
            "\n",
            "Installing package into ‘/usr/local/lib/R/site-library’\n",
            "(as ‘lib’ is unspecified)\n",
            "\n",
            "also installing the dependency ‘plyr’\n",
            "\n",
            "\n",
            "Installing package into ‘/usr/local/lib/R/site-library’\n",
            "(as ‘lib’ is unspecified)\n",
            "\n",
            "also installing the dependencies ‘listenv’, ‘parallelly’, ‘future’, ‘globals’, ‘shape’, ‘future.apply’, ‘numDeriv’, ‘progressr’, ‘SQUAREM’, ‘diagram’, ‘lava’, ‘prodlim’, ‘proxy’, ‘iterators’, ‘clock’, ‘gower’, ‘hardhat’, ‘ipred’, ‘timeDate’, ‘e1071’, ‘foreach’, ‘ModelMetrics’, ‘pROC’, ‘recipes’\n",
            "\n",
            "\n",
            "Installing package into ‘/usr/local/lib/R/site-library’\n",
            "(as ‘lib’ is unspecified)\n",
            "\n",
            "Installing package into ‘/usr/local/lib/R/site-library’\n",
            "(as ‘lib’ is unspecified)\n",
            "\n"
          ]
        }
      ],
      "source": [
        "install.packages(\"ggplot2\")\n",
        "install.packages(\"reshape2\")\n",
        "install.packages(\"caret\")\n",
        "install.packages(\"randomForest\")\n",
        "install.packages(\"e1071\")"
      ],
      "id": "2tniBMmF_0qV"
    },
    {
      "cell_type": "code",
      "execution_count": null,
      "metadata": {
        "id": "eN1oszLVBVtX",
        "colab": {
          "base_uri": "https://localhost:8080/"
        },
        "outputId": "8ab236a8-6d92-4737-c5ee-813179f7d9e8"
      },
      "outputs": [
        {
          "output_type": "stream",
          "name": "stderr",
          "text": [
            "Loading required package: lattice\n",
            "\n",
            "randomForest 4.7-1.2\n",
            "\n",
            "Type rfNews() to see new features/changes/bug fixes.\n",
            "\n",
            "\n",
            "Attaching package: ‘randomForest’\n",
            "\n",
            "\n",
            "The following object is masked from ‘package:ggplot2’:\n",
            "\n",
            "    margin\n",
            "\n",
            "\n"
          ]
        }
      ],
      "source": [
        "library(ggplot2)\n",
        "library(reshape2)\n",
        "library(caret)\n",
        "library(randomForest)\n",
        "library(e1071)"
      ],
      "id": "eN1oszLVBVtX"
    },
    {
      "cell_type": "markdown",
      "source": [
        "#Load Dataset"
      ],
      "metadata": {
        "id": "wUwg0JeO9exd"
      },
      "id": "wUwg0JeO9exd"
    },
    {
      "cell_type": "markdown",
      "metadata": {
        "id": "lPoonczW_vwy"
      },
      "source": [
        "**Import the gender classification dataset**"
      ],
      "id": "lPoonczW_vwy"
    },
    {
      "cell_type": "code",
      "execution_count": null,
      "metadata": {
        "id": "af40ba18"
      },
      "outputs": [],
      "source": [
        "df <- read.csv(\"/content/gender_classification.csv\")\n",
        "\n",
        "\n",
        "   #Test Your Zaka"
      ],
      "id": "af40ba18"
    },
    {
      "cell_type": "markdown",
      "metadata": {
        "id": "0d4b7c59"
      },
      "source": [
        "#Exploratory Data Analysis"
      ],
      "id": "0d4b7c59"
    },
    {
      "cell_type": "markdown",
      "source": [
        "**Show the first 5 rows of the dataframe**"
      ],
      "metadata": {
        "id": "TGwl-DGC-iDj"
      },
      "id": "TGwl-DGC-iDj"
    },
    {
      "cell_type": "code",
      "execution_count": null,
      "metadata": {
        "id": "9e679808",
        "colab": {
          "base_uri": "https://localhost:8080/",
          "height": 255
        },
        "outputId": "6cb74b6f-15a5-4629-98e3-1a88a4eb10fd"
      },
      "outputs": [
        {
          "output_type": "display_data",
          "data": {
            "text/html": [
              "<table class=\"dataframe\">\n",
              "<caption>A data.frame: 5 × 8</caption>\n",
              "<thead>\n",
              "\t<tr><th></th><th scope=col>long_hair</th><th scope=col>forehead_width_cm</th><th scope=col>forehead_height_cm</th><th scope=col>nose_wide</th><th scope=col>nose_long</th><th scope=col>lips_thin</th><th scope=col>distance_nose_to_lip_long</th><th scope=col>gender</th></tr>\n",
              "\t<tr><th></th><th scope=col>&lt;int&gt;</th><th scope=col>&lt;dbl&gt;</th><th scope=col>&lt;dbl&gt;</th><th scope=col>&lt;int&gt;</th><th scope=col>&lt;int&gt;</th><th scope=col>&lt;int&gt;</th><th scope=col>&lt;int&gt;</th><th scope=col>&lt;chr&gt;</th></tr>\n",
              "</thead>\n",
              "<tbody>\n",
              "\t<tr><th scope=row>1</th><td>1</td><td>11.8</td><td>6.1</td><td>1</td><td>0</td><td>1</td><td>1</td><td>Male  </td></tr>\n",
              "\t<tr><th scope=row>2</th><td>0</td><td>14.0</td><td>5.4</td><td>0</td><td>0</td><td>1</td><td>0</td><td>Female</td></tr>\n",
              "\t<tr><th scope=row>3</th><td>0</td><td>11.8</td><td>6.3</td><td>1</td><td>1</td><td>1</td><td>1</td><td>Male  </td></tr>\n",
              "\t<tr><th scope=row>4</th><td>0</td><td>14.4</td><td>6.1</td><td>0</td><td>1</td><td>1</td><td>1</td><td>Male  </td></tr>\n",
              "\t<tr><th scope=row>5</th><td>1</td><td>13.5</td><td>5.9</td><td>0</td><td>0</td><td>0</td><td>0</td><td>Female</td></tr>\n",
              "</tbody>\n",
              "</table>\n"
            ],
            "text/markdown": "\nA data.frame: 5 × 8\n\n| <!--/--> | long_hair &lt;int&gt; | forehead_width_cm &lt;dbl&gt; | forehead_height_cm &lt;dbl&gt; | nose_wide &lt;int&gt; | nose_long &lt;int&gt; | lips_thin &lt;int&gt; | distance_nose_to_lip_long &lt;int&gt; | gender &lt;chr&gt; |\n|---|---|---|---|---|---|---|---|---|\n| 1 | 1 | 11.8 | 6.1 | 1 | 0 | 1 | 1 | Male   |\n| 2 | 0 | 14.0 | 5.4 | 0 | 0 | 1 | 0 | Female |\n| 3 | 0 | 11.8 | 6.3 | 1 | 1 | 1 | 1 | Male   |\n| 4 | 0 | 14.4 | 6.1 | 0 | 1 | 1 | 1 | Male   |\n| 5 | 1 | 13.5 | 5.9 | 0 | 0 | 0 | 0 | Female |\n\n",
            "text/latex": "A data.frame: 5 × 8\n\\begin{tabular}{r|llllllll}\n  & long\\_hair & forehead\\_width\\_cm & forehead\\_height\\_cm & nose\\_wide & nose\\_long & lips\\_thin & distance\\_nose\\_to\\_lip\\_long & gender\\\\\n  & <int> & <dbl> & <dbl> & <int> & <int> & <int> & <int> & <chr>\\\\\n\\hline\n\t1 & 1 & 11.8 & 6.1 & 1 & 0 & 1 & 1 & Male  \\\\\n\t2 & 0 & 14.0 & 5.4 & 0 & 0 & 1 & 0 & Female\\\\\n\t3 & 0 & 11.8 & 6.3 & 1 & 1 & 1 & 1 & Male  \\\\\n\t4 & 0 & 14.4 & 6.1 & 0 & 1 & 1 & 1 & Male  \\\\\n\t5 & 1 & 13.5 & 5.9 & 0 & 0 & 0 & 0 & Female\\\\\n\\end{tabular}\n",
            "text/plain": [
              "  long_hair forehead_width_cm forehead_height_cm nose_wide nose_long lips_thin\n",
              "1 1         11.8              6.1                1         0         1        \n",
              "2 0         14.0              5.4                0         0         1        \n",
              "3 0         11.8              6.3                1         1         1        \n",
              "4 0         14.4              6.1                0         1         1        \n",
              "5 1         13.5              5.9                0         0         0        \n",
              "  distance_nose_to_lip_long gender\n",
              "1 1                         Male  \n",
              "2 0                         Female\n",
              "3 1                         Male  \n",
              "4 1                         Male  \n",
              "5 0                         Female"
            ]
          },
          "metadata": {}
        }
      ],
      "source": [
        "#Test Your Zaka\n",
        "head(df, 5)\n"
      ],
      "id": "9e679808"
    },
    {
      "cell_type": "markdown",
      "source": [
        "**Show the tail of the dataframe**"
      ],
      "metadata": {
        "id": "FR5EOmCw-rDT"
      },
      "id": "FR5EOmCw-rDT"
    },
    {
      "cell_type": "code",
      "execution_count": null,
      "metadata": {
        "id": "53290151",
        "colab": {
          "base_uri": "https://localhost:8080/",
          "height": 286
        },
        "outputId": "7553e24f-f758-4635-b166-ef86f91b10d5"
      },
      "outputs": [
        {
          "output_type": "display_data",
          "data": {
            "text/html": [
              "<table class=\"dataframe\">\n",
              "<caption>A data.frame: 6 × 8</caption>\n",
              "<thead>\n",
              "\t<tr><th></th><th scope=col>long_hair</th><th scope=col>forehead_width_cm</th><th scope=col>forehead_height_cm</th><th scope=col>nose_wide</th><th scope=col>nose_long</th><th scope=col>lips_thin</th><th scope=col>distance_nose_to_lip_long</th><th scope=col>gender</th></tr>\n",
              "\t<tr><th></th><th scope=col>&lt;int&gt;</th><th scope=col>&lt;dbl&gt;</th><th scope=col>&lt;dbl&gt;</th><th scope=col>&lt;int&gt;</th><th scope=col>&lt;int&gt;</th><th scope=col>&lt;int&gt;</th><th scope=col>&lt;int&gt;</th><th scope=col>&lt;chr&gt;</th></tr>\n",
              "</thead>\n",
              "<tbody>\n",
              "\t<tr><th scope=row>4996</th><td>1</td><td>12.3</td><td>6.9</td><td>0</td><td>1</td><td>1</td><td>1</td><td>Male  </td></tr>\n",
              "\t<tr><th scope=row>4997</th><td>1</td><td>13.6</td><td>5.1</td><td>0</td><td>0</td><td>0</td><td>0</td><td>Female</td></tr>\n",
              "\t<tr><th scope=row>4998</th><td>1</td><td>11.9</td><td>5.4</td><td>0</td><td>0</td><td>0</td><td>0</td><td>Female</td></tr>\n",
              "\t<tr><th scope=row>4999</th><td>1</td><td>12.9</td><td>5.7</td><td>0</td><td>0</td><td>0</td><td>0</td><td>Female</td></tr>\n",
              "\t<tr><th scope=row>5000</th><td>1</td><td>13.2</td><td>6.2</td><td>0</td><td>0</td><td>0</td><td>0</td><td>Female</td></tr>\n",
              "\t<tr><th scope=row>5001</th><td>1</td><td>15.4</td><td>5.4</td><td>1</td><td>1</td><td>1</td><td>1</td><td>Male  </td></tr>\n",
              "</tbody>\n",
              "</table>\n"
            ],
            "text/markdown": "\nA data.frame: 6 × 8\n\n| <!--/--> | long_hair &lt;int&gt; | forehead_width_cm &lt;dbl&gt; | forehead_height_cm &lt;dbl&gt; | nose_wide &lt;int&gt; | nose_long &lt;int&gt; | lips_thin &lt;int&gt; | distance_nose_to_lip_long &lt;int&gt; | gender &lt;chr&gt; |\n|---|---|---|---|---|---|---|---|---|\n| 4996 | 1 | 12.3 | 6.9 | 0 | 1 | 1 | 1 | Male   |\n| 4997 | 1 | 13.6 | 5.1 | 0 | 0 | 0 | 0 | Female |\n| 4998 | 1 | 11.9 | 5.4 | 0 | 0 | 0 | 0 | Female |\n| 4999 | 1 | 12.9 | 5.7 | 0 | 0 | 0 | 0 | Female |\n| 5000 | 1 | 13.2 | 6.2 | 0 | 0 | 0 | 0 | Female |\n| 5001 | 1 | 15.4 | 5.4 | 1 | 1 | 1 | 1 | Male   |\n\n",
            "text/latex": "A data.frame: 6 × 8\n\\begin{tabular}{r|llllllll}\n  & long\\_hair & forehead\\_width\\_cm & forehead\\_height\\_cm & nose\\_wide & nose\\_long & lips\\_thin & distance\\_nose\\_to\\_lip\\_long & gender\\\\\n  & <int> & <dbl> & <dbl> & <int> & <int> & <int> & <int> & <chr>\\\\\n\\hline\n\t4996 & 1 & 12.3 & 6.9 & 0 & 1 & 1 & 1 & Male  \\\\\n\t4997 & 1 & 13.6 & 5.1 & 0 & 0 & 0 & 0 & Female\\\\\n\t4998 & 1 & 11.9 & 5.4 & 0 & 0 & 0 & 0 & Female\\\\\n\t4999 & 1 & 12.9 & 5.7 & 0 & 0 & 0 & 0 & Female\\\\\n\t5000 & 1 & 13.2 & 6.2 & 0 & 0 & 0 & 0 & Female\\\\\n\t5001 & 1 & 15.4 & 5.4 & 1 & 1 & 1 & 1 & Male  \\\\\n\\end{tabular}\n",
            "text/plain": [
              "     long_hair forehead_width_cm forehead_height_cm nose_wide nose_long\n",
              "4996 1         12.3              6.9                0         1        \n",
              "4997 1         13.6              5.1                0         0        \n",
              "4998 1         11.9              5.4                0         0        \n",
              "4999 1         12.9              5.7                0         0        \n",
              "5000 1         13.2              6.2                0         0        \n",
              "5001 1         15.4              5.4                1         1        \n",
              "     lips_thin distance_nose_to_lip_long gender\n",
              "4996 1         1                         Male  \n",
              "4997 0         0                         Female\n",
              "4998 0         0                         Female\n",
              "4999 0         0                         Female\n",
              "5000 0         0                         Female\n",
              "5001 1         1                         Male  "
            ]
          },
          "metadata": {}
        }
      ],
      "source": [
        "#Test Your Zaka\n",
        "tail(df)\n"
      ],
      "id": "53290151"
    },
    {
      "cell_type": "markdown",
      "source": [
        "**Use str() method to show the structure of the dataframe, the datatypes, and the unique values**"
      ],
      "metadata": {
        "id": "OD4E1PQYAYTX"
      },
      "id": "OD4E1PQYAYTX"
    },
    {
      "cell_type": "code",
      "execution_count": null,
      "metadata": {
        "id": "7b72ae35",
        "colab": {
          "base_uri": "https://localhost:8080/"
        },
        "outputId": "e1b087ee-2f3a-4618-ec01-2f6c7b486fdf"
      },
      "outputs": [
        {
          "output_type": "stream",
          "name": "stdout",
          "text": [
            "'data.frame':\t5001 obs. of  8 variables:\n",
            " $ long_hair                : int  1 0 0 0 1 1 1 0 1 1 ...\n",
            " $ forehead_width_cm        : num  11.8 14 11.8 14.4 13.5 13 15.3 13 11.9 12.1 ...\n",
            " $ forehead_height_cm       : num  6.1 5.4 6.3 6.1 5.9 6.8 6.2 5.2 5.4 5.4 ...\n",
            " $ nose_wide                : int  1 0 1 0 0 1 1 0 1 0 ...\n",
            " $ nose_long                : int  0 0 1 1 0 1 1 0 0 0 ...\n",
            " $ lips_thin                : int  1 1 1 1 0 1 1 0 1 0 ...\n",
            " $ distance_nose_to_lip_long: int  1 0 1 1 0 1 0 0 1 0 ...\n",
            " $ gender                   : chr  \"Male\" \"Female\" \"Male\" \"Male\" ...\n"
          ]
        }
      ],
      "source": [
        "#Test Your Zaka\n",
        "str(df)\n"
      ],
      "id": "7b72ae35"
    },
    {
      "cell_type": "markdown",
      "source": [
        "**Show the statistical summary of the dataframe**"
      ],
      "metadata": {
        "id": "FWJ-qAYJA5LX"
      },
      "id": "FWJ-qAYJA5LX"
    },
    {
      "cell_type": "code",
      "execution_count": null,
      "metadata": {
        "id": "99001d69",
        "colab": {
          "base_uri": "https://localhost:8080/",
          "height": 260
        },
        "outputId": "fc6d1f76-ace7-493c-896f-7d3eca187ef2"
      },
      "outputs": [
        {
          "output_type": "display_data",
          "data": {
            "text/plain": [
              "   long_hair      forehead_width_cm forehead_height_cm   nose_wide     \n",
              " Min.   :0.0000   Min.   :11.40     Min.   :5.100      Min.   :0.0000  \n",
              " 1st Qu.:1.0000   1st Qu.:12.20     1st Qu.:5.500      1st Qu.:0.0000  \n",
              " Median :1.0000   Median :13.10     Median :5.900      Median :0.0000  \n",
              " Mean   :0.8696   Mean   :13.18     Mean   :5.946      Mean   :0.4939  \n",
              " 3rd Qu.:1.0000   3rd Qu.:14.00     3rd Qu.:6.400      3rd Qu.:1.0000  \n",
              " Max.   :1.0000   Max.   :15.50     Max.   :7.100      Max.   :1.0000  \n",
              "   nose_long        lips_thin      distance_nose_to_lip_long    gender         \n",
              " Min.   :0.0000   Min.   :0.0000   Min.   :0.0000            Length:5001       \n",
              " 1st Qu.:0.0000   1st Qu.:0.0000   1st Qu.:0.0000            Class :character  \n",
              " Median :1.0000   Median :0.0000   Median :0.0000            Mode  :character  \n",
              " Mean   :0.5079   Mean   :0.4931   Mean   :0.4989                              \n",
              " 3rd Qu.:1.0000   3rd Qu.:1.0000   3rd Qu.:1.0000                              \n",
              " Max.   :1.0000   Max.   :1.0000   Max.   :1.0000                              "
            ]
          },
          "metadata": {}
        }
      ],
      "source": [
        "#Test Your Zaka\n",
        "summary(df)\n"
      ],
      "id": "99001d69"
    },
    {
      "cell_type": "markdown",
      "source": [
        "**Plot a pie chart about the gender percentages:**"
      ],
      "metadata": {
        "id": "vgYiTimd_F5V"
      },
      "id": "vgYiTimd_F5V"
    },
    {
      "cell_type": "code",
      "execution_count": null,
      "metadata": {
        "id": "05b448a1",
        "colab": {
          "base_uri": "https://localhost:8080/",
          "height": 437
        },
        "outputId": "aca68ec0-ef22-4c69-e84f-01aed71c13fc"
      },
      "outputs": [
        {
          "output_type": "display_data",
          "data": {
            "text/plain": [
              "plot without title"
            ],
            "image/png": "[encoded data removed]"
          },
          "metadata": {
            "image/png": {
              "width": 420,
              "height": 420
            }
          }
        }
      ],
      "source": [
        "gender_counts <- table(df$gender)\n",
        "\n",
        "# Convert to dataframe\n",
        "df_gender <- as.data.frame(gender_counts)\n",
        "\n",
        "# Name the columns of this dataframe\n",
        "names(df_gender) <- c(\"Gender\", \"Count\")\n",
        "\n",
        "# Creating the pie chart\n",
        "ggplot(df_gender, aes(x = \"\", y = Count, fill = Gender)) +\n",
        "  geom_bar(stat = \"identity\", width = 1) +\n",
        "  coord_polar(\"y\", start = 0) +\n",
        "  theme_void() +\n",
        "  scale_fill_manual(values = c(\"#3B6895\", \"#F9866F\")) +\n",
        "  labs(fill = \"Gender\") +\n",
        "  geom_text(aes(label = paste0(round(Count / sum(Count) * 100, 1), \"%\")), position = position_stack(vjust = 0.5))\n",
        "\n"
      ],
      "id": "05b448a1"
    },
    {
      "cell_type": "markdown",
      "source": [
        "**Do we have an imbalance in the dataset?**"
      ],
      "metadata": {
        "id": "hoG6x1CSqQcl"
      },
      "id": "hoG6x1CSqQcl"
    },
    {
      "cell_type": "markdown",
      "source": [
        "Share Your Zaka here\n",
        "\n",
        "**Given that the pie chart shows a 50% male and 50% female distribution, there is no imbalance in the dataset. An imbalanced dataset typically occurs when one class significantly outweighs the others. In this case, both genders are equally represented, so the dataset is balanced.**"
      ],
      "metadata": {
        "id": "a9UfxB92qVJO"
      },
      "id": "a9UfxB92qVJO"
    },
    {
      "cell_type": "markdown",
      "source": [
        "Plot the correlation matrix between the available columns"
      ],
      "metadata": {
        "id": "3Gmz1OlbRGRI"
      },
      "id": "3Gmz1OlbRGRI"
    },
    {
      "cell_type": "code",
      "source": [
        "\n",
        "corr_matrix <- cor(df[, sapply(df, is.numeric)], use = \"complete.obs\")\n",
        "\n",
        "# Creating the heatmap\n",
        "ggplot(melt(corr_matrix), aes(Var1, Var2, fill = value)) +\n",
        "  geom_tile() +\n",
        "  scale_fill_gradient2(low = \"blue\", high = \"red\", midpoint = 0, limits = c(-1, 1)) +\n",
        "  theme_minimal() +\n",
        "  theme(axis.text.x = element_text(angle = 45, hjust = 1)) +\n",
        "  geom_text(aes(label = sprintf(\"%.2f\", value)), vjust = 1) +\n",
        "  labs(x = \"\", y = \"\", fill = \"Pearson\\nCorrelation\")\n",
        "\n",
        "\n"
      ],
      "metadata": {
        "id": "VYFwGTE6B51O",
        "colab": {
          "base_uri": "https://localhost:8080/",
          "height": 437
        },
        "outputId": "b618f889-99a1-4588-91b4-05bb876f678c"
      },
      "id": "VYFwGTE6B51O",
      "execution_count": null,
      "outputs": [
        {
          "output_type": "display_data",
          "data": {
            "text/plain": [
              "plot without title"
            ],
            "image/png": "[encoded data removed]"
          },
          "metadata": {
            "image/png": {
              "width": 420,
              "height": 420
            }
          }
        }
      ]
    },
    {
      "cell_type": "markdown",
      "source": [
        "**Can you find highly correlated features?**"
      ],
      "metadata": {
        "id": "7Wh_9l0leI-B"
      },
      "id": "7Wh_9l0leI-B"
    },
    {
      "cell_type": "markdown",
      "source": [
        "Share Your Zaka here\n",
        "\n",
        "**Based on the heatmap :\n",
        "The feature nose_wide has a perfect correlation with itself (as expected), showing a correlation coefficient of 1.\n",
        "forehead_height_cm and nose_wide seem to have a higher positive correlation\n",
        " (0.56).\n",
        "forehead_height_cm and forehead_width_cm have a noticeable positive correlation (0.55).\n",
        "nose_long also shows a relatively higher positive correlation with forehead_height_cm (0.56).\n",
        "These correlations suggest that certain features are somewhat related to each other, which might be useful in the modeling process or for dimensionality reduction techniques like PCA.**"
      ],
      "metadata": {
        "id": "7MyL1ysdePl0"
      },
      "id": "7MyL1ysdePl0"
    },
    {
      "cell_type": "markdown",
      "metadata": {
        "id": "0eb46dfe"
      },
      "source": [
        "# Data Preprocessing"
      ],
      "id": "0eb46dfe"
    },
    {
      "cell_type": "markdown",
      "source": [
        "**Remove duplicate rows and show their count after removal**"
      ],
      "metadata": {
        "id": "5bnUZCfA-3Hz"
      },
      "id": "5bnUZCfA-3Hz"
    },
    {
      "cell_type": "code",
      "execution_count": null,
      "metadata": {
        "id": "d35ff3f4",
        "colab": {
          "base_uri": "https://localhost:8080/",
          "height": 34
        },
        "outputId": "0c070cdd-4d5f-4d43-f1fe-2180053757f6"
      },
      "outputs": [
        {
          "output_type": "display_data",
          "data": {
            "text/html": [
              "3233"
            ],
            "text/markdown": "3233",
            "text/latex": "3233",
            "text/plain": [
              "[1] 3233"
            ]
          },
          "metadata": {}
        }
      ],
      "source": [
        "#Test Your Zaka\n",
        "\n",
        "df <- df[!duplicated(df), ]\n",
        "\n",
        "# Display the number of rows after removing duplicates\n",
        "nrow(df)\n"
      ],
      "id": "d35ff3f4"
    },
    {
      "cell_type": "markdown",
      "source": [
        "**Convert the gender column to the factor data type**"
      ],
      "metadata": {
        "id": "cNU5beaWDB8Q"
      },
      "id": "cNU5beaWDB8Q"
    },
    {
      "cell_type": "code",
      "execution_count": null,
      "metadata": {
        "id": "345a7ebf",
        "colab": {
          "base_uri": "https://localhost:8080/",
          "height": 286
        },
        "outputId": "cc5c1fec-fbeb-4816-a2c7-b69146944577"
      },
      "outputs": [
        {
          "output_type": "display_data",
          "data": {
            "text/html": [
              "<table class=\"dataframe\">\n",
              "<caption>A data.frame: 6 × 8</caption>\n",
              "<thead>\n",
              "\t<tr><th></th><th scope=col>long_hair</th><th scope=col>forehead_width_cm</th><th scope=col>forehead_height_cm</th><th scope=col>nose_wide</th><th scope=col>nose_long</th><th scope=col>lips_thin</th><th scope=col>distance_nose_to_lip_long</th><th scope=col>gender</th></tr>\n",
              "\t<tr><th></th><th scope=col>&lt;int&gt;</th><th scope=col>&lt;dbl&gt;</th><th scope=col>&lt;dbl&gt;</th><th scope=col>&lt;int&gt;</th><th scope=col>&lt;int&gt;</th><th scope=col>&lt;int&gt;</th><th scope=col>&lt;int&gt;</th><th scope=col>&lt;fct&gt;</th></tr>\n",
              "</thead>\n",
              "<tbody>\n",
              "\t<tr><th scope=row>1</th><td>1</td><td>11.8</td><td>6.1</td><td>1</td><td>0</td><td>1</td><td>1</td><td>Male  </td></tr>\n",
              "\t<tr><th scope=row>2</th><td>0</td><td>14.0</td><td>5.4</td><td>0</td><td>0</td><td>1</td><td>0</td><td>Female</td></tr>\n",
              "\t<tr><th scope=row>3</th><td>0</td><td>11.8</td><td>6.3</td><td>1</td><td>1</td><td>1</td><td>1</td><td>Male  </td></tr>\n",
              "\t<tr><th scope=row>4</th><td>0</td><td>14.4</td><td>6.1</td><td>0</td><td>1</td><td>1</td><td>1</td><td>Male  </td></tr>\n",
              "\t<tr><th scope=row>5</th><td>1</td><td>13.5</td><td>5.9</td><td>0</td><td>0</td><td>0</td><td>0</td><td>Female</td></tr>\n",
              "\t<tr><th scope=row>6</th><td>1</td><td>13.0</td><td>6.8</td><td>1</td><td>1</td><td>1</td><td>1</td><td>Male  </td></tr>\n",
              "</tbody>\n",
              "</table>\n"
            ],
            "text/markdown": "\nA data.frame: 6 × 8\n\n| <!--/--> | long_hair &lt;int&gt; | forehead_width_cm &lt;dbl&gt; | forehead_height_cm &lt;dbl&gt; | nose_wide &lt;int&gt; | nose_long &lt;int&gt; | lips_thin &lt;int&gt; | distance_nose_to_lip_long &lt;int&gt; | gender &lt;fct&gt; |\n|---|---|---|---|---|---|---|---|---|\n| 1 | 1 | 11.8 | 6.1 | 1 | 0 | 1 | 1 | Male   |\n| 2 | 0 | 14.0 | 5.4 | 0 | 0 | 1 | 0 | Female |\n| 3 | 0 | 11.8 | 6.3 | 1 | 1 | 1 | 1 | Male   |\n| 4 | 0 | 14.4 | 6.1 | 0 | 1 | 1 | 1 | Male   |\n| 5 | 1 | 13.5 | 5.9 | 0 | 0 | 0 | 0 | Female |\n| 6 | 1 | 13.0 | 6.8 | 1 | 1 | 1 | 1 | Male   |\n\n",
            "text/latex": "A data.frame: 6 × 8\n\\begin{tabular}{r|llllllll}\n  & long\\_hair & forehead\\_width\\_cm & forehead\\_height\\_cm & nose\\_wide & nose\\_long & lips\\_thin & distance\\_nose\\_to\\_lip\\_long & gender\\\\\n  & <int> & <dbl> & <dbl> & <int> & <int> & <int> & <int> & <fct>\\\\\n\\hline\n\t1 & 1 & 11.8 & 6.1 & 1 & 0 & 1 & 1 & Male  \\\\\n\t2 & 0 & 14.0 & 5.4 & 0 & 0 & 1 & 0 & Female\\\\\n\t3 & 0 & 11.8 & 6.3 & 1 & 1 & 1 & 1 & Male  \\\\\n\t4 & 0 & 14.4 & 6.1 & 0 & 1 & 1 & 1 & Male  \\\\\n\t5 & 1 & 13.5 & 5.9 & 0 & 0 & 0 & 0 & Female\\\\\n\t6 & 1 & 13.0 & 6.8 & 1 & 1 & 1 & 1 & Male  \\\\\n\\end{tabular}\n",
            "text/plain": [
              "  long_hair forehead_width_cm forehead_height_cm nose_wide nose_long lips_thin\n",
              "1 1         11.8              6.1                1         0         1        \n",
              "2 0         14.0              5.4                0         0         1        \n",
              "3 0         11.8              6.3                1         1         1        \n",
              "4 0         14.4              6.1                0         1         1        \n",
              "5 1         13.5              5.9                0         0         0        \n",
              "6 1         13.0              6.8                1         1         1        \n",
              "  distance_nose_to_lip_long gender\n",
              "1 1                         Male  \n",
              "2 0                         Female\n",
              "3 1                         Male  \n",
              "4 1                         Male  \n",
              "5 0                         Female\n",
              "6 1                         Male  "
            ]
          },
          "metadata": {}
        }
      ],
      "source": [
        "# Convert 'gender' to a factor\n",
        "df$gender <- as.factor(df$gender)\n",
        "  #Test Your Zaka\n",
        "\n",
        "# Display the head of the dataframe\n",
        "head(df)"
      ],
      "id": "345a7ebf"
    },
    {
      "cell_type": "markdown",
      "source": [
        "**Split the data into 80% for training and 20% for testing:**"
      ],
      "metadata": {
        "id": "iAkshbe2EZ_W"
      },
      "id": "iAkshbe2EZ_W"
    },
    {
      "cell_type": "code",
      "source": [
        "# Create indices for the training set\n",
        "trainIndex <- createDataPartition(df$gender, p = 0.8, list = FALSE)\n",
        "\n",
        "# Split the data into training and testing sets\n",
        "train_df <- df[trainIndex, ]\n",
        "test_df <- df[-trainIndex, ]"
      ],
      "metadata": {
        "id": "rAqR66HcK6KL"
      },
      "id": "rAqR66HcK6KL",
      "execution_count": null,
      "outputs": []
    },
    {
      "cell_type": "code",
      "execution_count": null,
      "metadata": {
        "id": "41240767",
        "colab": {
          "base_uri": "https://localhost:8080/",
          "height": 52
        },
        "outputId": "9e2f1638-51cf-4b3e-9c60-be35f46b202e"
      },
      "outputs": [
        {
          "output_type": "display_data",
          "data": {
            "text/html": [
              "<style>\n",
              ".list-inline {list-style: none; margin:0; padding: 0}\n",
              ".list-inline>li {display: inline-block}\n",
              ".list-inline>li:not(:last-child)::after {content: \"\\00b7\"; padding: 0 .5ex}\n",
              "</style>\n",
              "<ol class=list-inline><li>2587</li><li>8</li></ol>\n"
            ],
            "text/markdown": "1. 2587\n2. 8\n\n\n",
            "text/latex": "\\begin{enumerate*}\n\\item 2587\n\\item 8\n\\end{enumerate*}\n",
            "text/plain": [
              "[1] 2587    8"
            ]
          },
          "metadata": {}
        },
        {
          "output_type": "display_data",
          "data": {
            "text/html": [
              "<style>\n",
              ".list-inline {list-style: none; margin:0; padding: 0}\n",
              ".list-inline>li {display: inline-block}\n",
              ".list-inline>li:not(:last-child)::after {content: \"\\00b7\"; padding: 0 .5ex}\n",
              "</style>\n",
              "<ol class=list-inline><li>646</li><li>8</li></ol>\n"
            ],
            "text/markdown": "1. 646\n2. 8\n\n\n",
            "text/latex": "\\begin{enumerate*}\n\\item 646\n\\item 8\n\\end{enumerate*}\n",
            "text/plain": [
              "[1] 646   8"
            ]
          },
          "metadata": {}
        }
      ],
      "source": [
        "# Print the dimensions of train_df and test_df\n",
        "dim(train_df)\n",
        "dim(test_df)"
      ],
      "id": "41240767"
    },
    {
      "cell_type": "markdown",
      "metadata": {
        "id": "4c50a0d0"
      },
      "source": [
        "#Creating Models"
      ],
      "id": "4c50a0d0"
    },
    {
      "cell_type": "markdown",
      "metadata": {
        "id": "11d3a29e"
      },
      "source": [
        "# **Naive Bayes Model**"
      ],
      "id": "11d3a29e"
    },
    {
      "cell_type": "markdown",
      "source": [
        "**Train a model using the Naive Bayes algorithm**"
      ],
      "metadata": {
        "id": "HbH-X90-c7b7"
      },
      "id": "HbH-X90-c7b7"
    },
    {
      "cell_type": "code",
      "execution_count": null,
      "metadata": {
        "id": "4c825023",
        "colab": {
          "base_uri": "https://localhost:8080/"
        },
        "outputId": "3a962fb0-f19b-4069-8714-f3df6fdda148"
      },
      "outputs": [
        {
          "output_type": "stream",
          "name": "stdout",
          "text": [
            "\n",
            "Naive Bayes Classifier for Discrete Predictors\n",
            "\n",
            "Call:\n",
            "naiveBayes.default(x = X, y = Y, laplace = laplace)\n",
            "\n",
            "A-priori probabilities:\n",
            "Y\n",
            "   Female      Male \n",
            "0.4483958 0.5516042 \n",
            "\n",
            "Conditional probabilities:\n",
            "        long_hair\n",
            "Y             [,1]      [,2]\n",
            "  Female 0.8155172 0.3880447\n",
            "  Male   0.8346181 0.3716551\n",
            "\n",
            "        forehead_width_cm\n",
            "Y            [,1]      [,2]\n",
            "  Female 12.82724 0.8704819\n",
            "  Male   13.55032 1.1868752\n",
            "\n",
            "        forehead_height_cm\n",
            "Y            [,1]      [,2]\n",
            "  Female 5.801034 0.4268984\n",
            "  Male   6.090119 0.5990471\n",
            "\n",
            "        nose_wide\n",
            "Y             [,1]      [,2]\n",
            "  Female 0.1715517 0.3771530\n",
            "  Male   0.8304135 0.3754007\n",
            "\n",
            "        nose_long\n",
            "Y             [,1]      [,2]\n",
            "  Female 0.2068966 0.4052554\n",
            "  Male   0.8542397 0.3529895\n",
            "\n",
            "        lips_thin\n",
            "Y             [,1]      [,2]\n",
            "  Female 0.1956897 0.3969018\n",
            "  Male   0.8156973 0.3878668\n",
            "\n",
            "        distance_nose_to_lip_long\n",
            "Y             [,1]      [,2]\n",
            "  Female 0.1775862 0.3823289\n",
            "  Male   0.8430273 0.3639025\n",
            "\n"
          ]
        }
      ],
      "source": [
        "# Fit the Naive Bayes model on the training data\n",
        "nb_model <- naiveBayes(gender ~ ., data = train_df)\n",
        "\n",
        "# Print the model summary\n",
        "print(nb_model)"
      ],
      "id": "4c825023"
    },
    {
      "cell_type": "markdown",
      "source": [
        "**Evaluate the performance of the model by predicting the gender value based on the testing set**"
      ],
      "metadata": {
        "id": "wm2IqVMPexNp"
      },
      "id": "wm2IqVMPexNp"
    },
    {
      "cell_type": "code",
      "source": [
        "# Select input features for the test set, assuming the last column is the response variable 'gender'\n",
        "test_features <- test_df[, -ncol(test_df)]\n",
        "\n",
        "# Predict on the test set using the Naive Bayes model\n",
        "y_pred_test <- predict(nb_model, newdata = test_features)\n"
      ],
      "metadata": {
        "id": "VScGGB8e-eJW"
      },
      "id": "VScGGB8e-eJW",
      "execution_count": null,
      "outputs": []
    },
    {
      "cell_type": "markdown",
      "source": [
        "**Show the confusion matrix between the real gender labels of the test set, and the predicted ones**"
      ],
      "metadata": {
        "id": "1ar5y0dNfALm"
      },
      "id": "1ar5y0dNfALm"
    },
    {
      "cell_type": "code",
      "source": [
        "# Convert y_pred_test and test_df$gender to factors with the same levels\n",
        "levels <- unique(test_df$gender)\n",
        "\n",
        "y_pred_test <- factor(y_pred_test, levels = levels)\n",
        "test_df$gender <- factor(test_df$gender, levels = levels)\n",
        "\n",
        "# Create the confusion matrix\n",
        "conf_matrix <- table(test_df$gender, y_pred_test)\n",
        "conf_matrix"
      ],
      "metadata": {
        "id": "2tvNNT1D-j98",
        "colab": {
          "base_uri": "https://localhost:8080/",
          "height": 86
        },
        "outputId": "c83b7209-681b-4aa4-edea-8eac51730a35"
      },
      "id": "2tvNNT1D-j98",
      "execution_count": null,
      "outputs": [
        {
          "output_type": "display_data",
          "data": {
            "text/plain": [
              "        y_pred_test\n",
              "         Female Male\n",
              "  Female    281    9\n",
              "  Male       25  331"
            ]
          },
          "metadata": {}
        }
      ]
    },
    {
      "cell_type": "markdown",
      "source": [
        "**Calculate the accuracy of the Naive Bayes Model**"
      ],
      "metadata": {
        "id": "mM3wdhDghR82"
      },
      "id": "mM3wdhDghR82"
    },
    {
      "cell_type": "code",
      "source": [
        "# Calculate the accuracy of the Naive Bayes predictions\n",
        "nb_accuracy <- sum(y_pred_test == test_df$gender) / length(test_df$gender)\n",
        "\n",
        "# Print the Naive Bayes accuracy as a percentage\n",
        "nb_accuracy_percentage <- nb_accuracy * 100\n",
        "print(paste(\"Naive Bayes Accuracy:\", round(nb_accuracy_percentage, 2), \"%\"))\n",
        "\n"
      ],
      "metadata": {
        "id": "MhCGEAEW-mm-",
        "colab": {
          "base_uri": "https://localhost:8080/"
        },
        "outputId": "852d468b-4bc7-4b77-9162-b14759871045"
      },
      "id": "MhCGEAEW-mm-",
      "execution_count": null,
      "outputs": [
        {
          "output_type": "stream",
          "name": "stdout",
          "text": [
            "[1] \"Naive Bayes Accuracy: 94.74 %\"\n"
          ]
        }
      ]
    },
    {
      "cell_type": "markdown",
      "metadata": {
        "id": "7a865f91"
      },
      "source": [
        "# **Random Forest**"
      ],
      "id": "7a865f91"
    },
    {
      "cell_type": "markdown",
      "source": [
        "**Train a model using the Random Forest algorithm**"
      ],
      "metadata": {
        "id": "9q1baEWef7lC"
      },
      "id": "9q1baEWef7lC"
    },
    {
      "cell_type": "code",
      "execution_count": null,
      "metadata": {
        "id": "e742a28f",
        "colab": {
          "base_uri": "https://localhost:8080/"
        },
        "outputId": "7b17f7b5-b1fa-4f47-a688-b96518ef31aa"
      },
      "outputs": [
        {
          "output_type": "stream",
          "name": "stdout",
          "text": [
            "\n",
            "Call:\n",
            " randomForest(formula = gender ~ ., data = train_df, ntree = 100) \n",
            "               Type of random forest: classification\n",
            "                     Number of trees: 100\n",
            "No. of variables tried at each split: 2\n",
            "\n",
            "        OOB estimate of  error rate: 3.94%\n",
            "Confusion matrix:\n",
            "       Female Male class.error\n",
            "Female   1123   37  0.03189655\n",
            "Male       65 1362  0.04555011\n"
          ]
        }
      ],
      "source": [
        "# Train the Random Forest model\n",
        "rf_model <- randomForest(gender ~ ., data = train_df, ntree = 100)\n",
        "\n",
        "# Print the model summary\n",
        "print(rf_model)"
      ],
      "id": "e742a28f"
    },
    {
      "cell_type": "markdown",
      "source": [
        "**Evaluate the performance of the model by predicting the gender value based on the testing set**"
      ],
      "metadata": {
        "id": "WWM_K_MjgX4G"
      },
      "id": "WWM_K_MjgX4G"
    },
    {
      "cell_type": "code",
      "source": [
        "# Select input features\n",
        "test_features <- test_df[, -ncol(test_df)]\n",
        "\n",
        "# Predict on the test set\n",
        "y_pred_test <- predict(rf_model, newdata = test_features)\n"
      ],
      "metadata": {
        "id": "AvAKJzWTNyFe"
      },
      "id": "AvAKJzWTNyFe",
      "execution_count": null,
      "outputs": []
    },
    {
      "cell_type": "markdown",
      "source": [
        "**Show the confusion matrix between the real gender labels of the test set, and the predicted ones**"
      ],
      "metadata": {
        "id": "xaSRL-Vwhbcq"
      },
      "id": "xaSRL-Vwhbcq"
    },
    {
      "cell_type": "code",
      "source": [
        "# Convert both y_pred_test and test_df$gender to factors with the same levels\n",
        "levels <- unique(test_df$gender)\n",
        "\n",
        "y_pred_test <- factor(y_pred_test, levels = levels)\n",
        "test_df$gender <- factor(test_df$gender, levels = levels)\n",
        "\n",
        "# Create and print the confusion matrix\n",
        "conf_matrix <- table(test_df$gender, y_pred_test)\n",
        "print(conf_matrix)\n"
      ],
      "metadata": {
        "id": "ivbfF8BgN6bm",
        "colab": {
          "base_uri": "https://localhost:8080/"
        },
        "outputId": "021ceeca-2763-4bac-8a76-b7e00bd9ffa7"
      },
      "id": "ivbfF8BgN6bm",
      "execution_count": null,
      "outputs": [
        {
          "output_type": "stream",
          "name": "stdout",
          "text": [
            "        y_pred_test\n",
            "         Female Male\n",
            "  Female    282    8\n",
            "  Male       20  336\n"
          ]
        }
      ]
    },
    {
      "cell_type": "markdown",
      "source": [
        "**Calculate the accuracy of the Random Forest Model**"
      ],
      "metadata": {
        "id": "8k7faKBuhfPD"
      },
      "id": "8k7faKBuhfPD"
    },
    {
      "cell_type": "code",
      "source": [
        "rf_accuracy <- sum(y_pred_test == test_df$gender) / length(test_df$gender)\n",
        "\n",
        "# Print the Random Forest accuracy as a percentage\n",
        "rf_accuracy_percentage <- rf_accuracy * 100\n",
        "print(paste(\"Random Forest Accuracy:\", round(rf_accuracy_percentage, 2), \"%\"))"
      ],
      "metadata": {
        "id": "E8zBC3mHN70I",
        "colab": {
          "base_uri": "https://localhost:8080/"
        },
        "outputId": "8126d636-726f-445b-ecc8-02d344d381d7"
      },
      "id": "E8zBC3mHN70I",
      "execution_count": null,
      "outputs": [
        {
          "output_type": "stream",
          "name": "stdout",
          "text": [
            "[1] \"Random Forest Accuracy: 95.67 %\"\n"
          ]
        }
      ]
    },
    {
      "cell_type": "markdown",
      "metadata": {
        "id": "710fa865"
      },
      "source": [
        "# **SVM**"
      ],
      "id": "710fa865"
    },
    {
      "cell_type": "markdown",
      "source": [
        "**Train a model using the SVM algorithm**"
      ],
      "metadata": {
        "id": "cyMnX6hJhwrM"
      },
      "id": "cyMnX6hJhwrM"
    },
    {
      "cell_type": "code",
      "execution_count": null,
      "metadata": {
        "id": "4d69b9d0",
        "colab": {
          "base_uri": "https://localhost:8080/"
        },
        "outputId": "fe2d98e4-cfca-4caf-a232-d98de8495a35"
      },
      "outputs": [
        {
          "output_type": "stream",
          "name": "stdout",
          "text": [
            "\n",
            "Call:\n",
            "svm(formula = gender ~ ., data = train_df)\n",
            "\n",
            "\n",
            "Parameters:\n",
            "   SVM-Type:  C-classification \n",
            " SVM-Kernel:  radial \n",
            "       cost:  1 \n",
            "\n",
            "Number of Support Vectors:  323\n",
            "\n"
          ]
        }
      ],
      "source": [
        "# Train the SVM model\n",
        "svm_model <- svm(gender ~ ., data = train_df)\n",
        "\n",
        "# Print the model summary\n",
        "print(svm_model)\n"
      ],
      "id": "4d69b9d0"
    },
    {
      "cell_type": "markdown",
      "source": [
        "**Evaluate the performance of the model by predicting the gender value based on the testing set**"
      ],
      "metadata": {
        "id": "MCEq7PMbiMeP"
      },
      "id": "MCEq7PMbiMeP"
    },
    {
      "cell_type": "code",
      "source": [
        "# Select input features from test data\n",
        "test_features <- test_df[, -ncol(test_df)]\n",
        "\n",
        "# Predict on the test set using the SVM model\n",
        "y_pred_test <- predict(svm_model, newdata = test_features)"
      ],
      "metadata": {
        "id": "9M_IgNOSPlN9"
      },
      "id": "9M_IgNOSPlN9",
      "execution_count": null,
      "outputs": []
    },
    {
      "cell_type": "markdown",
      "source": [
        "**Show the confusion matrix between the real gender labels of the test set, and the predicted ones**"
      ],
      "metadata": {
        "id": "He-tSHcQiPxk"
      },
      "id": "He-tSHcQiPxk"
    },
    {
      "cell_type": "code",
      "source": [
        "# Convert both y_pred_test and test_df$gender to factors with the same levels\n",
        "levels <- unique(test_df$gender)\n",
        "\n",
        "y_pred_test <- factor(y_pred_test, levels = levels)\n",
        "test_df$gender <- factor(test_df$gender, levels = levels)\n",
        "\n",
        "# Confusion matrix\n",
        "conf_matrix <- table(test_df$gender, y_pred_test)\n",
        "print(conf_matrix)"
      ],
      "metadata": {
        "id": "fp86mWppPoLc",
        "colab": {
          "base_uri": "https://localhost:8080/"
        },
        "outputId": "4a026808-cae7-4653-aa32-f21b696c3cb0"
      },
      "id": "fp86mWppPoLc",
      "execution_count": null,
      "outputs": [
        {
          "output_type": "stream",
          "name": "stdout",
          "text": [
            "        y_pred_test\n",
            "         Female Male\n",
            "  Female    282    8\n",
            "  Male       24  332\n"
          ]
        }
      ]
    },
    {
      "cell_type": "markdown",
      "source": [
        "**Calculate the accuracy of the SVM Model**"
      ],
      "metadata": {
        "id": "29_O3W-KiCl6"
      },
      "id": "29_O3W-KiCl6"
    },
    {
      "cell_type": "code",
      "source": [
        "# Calculate accuracy\n",
        "SVM_accuracy <- sum(y_pred_test == test_df$gender) / length(test_df$gender)\n",
        "\n",
        "# Print the SVM model accuracy as a percentage\n",
        "SVM_accuracy_percentage <- SVM_accuracy * 100\n",
        "print(paste(\"SVM Model Accuracy:\", round(SVM_accuracy_percentage, 2), \"%\"))\n"
      ],
      "metadata": {
        "id": "4Whw-RbdPqgb",
        "colab": {
          "base_uri": "https://localhost:8080/"
        },
        "outputId": "6c8c45a8-773f-4276-af58-c93e9a3cd62e"
      },
      "id": "4Whw-RbdPqgb",
      "execution_count": null,
      "outputs": [
        {
          "output_type": "stream",
          "name": "stdout",
          "text": [
            "[1] \"SVM Model Accuracy: 95.05 %\"\n"
          ]
        }
      ]
    },
    {
      "cell_type": "markdown",
      "metadata": {
        "id": "fee830c0"
      },
      "source": [
        "# **Comparing Between Models**"
      ],
      "id": "fee830c0"
    },
    {
      "cell_type": "markdown",
      "source": [
        "**Create a dataframe that shows the accuracies of each model**"
      ],
      "metadata": {
        "id": "IL97kyxbjQu6"
      },
      "id": "IL97kyxbjQu6"
    },
    {
      "cell_type": "code",
      "execution_count": null,
      "metadata": {
        "id": "7c8c538d",
        "colab": {
          "base_uri": "https://localhost:8080/"
        },
        "outputId": "a247c53e-d63a-46ee-e3d8-99e542a2c724"
      },
      "outputs": [
        {
          "output_type": "stream",
          "name": "stdout",
          "text": [
            "          Model Test_Accuracy_Score\n",
            "1   Naive Bayes            94.73684\n",
            "2 Random Forest            95.66563\n",
            "3           SVM            95.04644\n"
          ]
        }
      ],
      "source": [
        "# Create the data frame\n",
        "models <- data.frame(\n",
        "  Model = c(\"Naive Bayes\", \"Random Forest\", \"SVM\"),\n",
        "  Test_Accuracy_Score = c(nb_accuracy_percentage, rf_accuracy_percentage, SVM_accuracy_percentage)\n",
        ")\n",
        "\n",
        "# View the data frame\n",
        "print(models)\n",
        "\n"
      ],
      "id": "7c8c538d"
    },
    {
      "cell_type": "markdown",
      "source": [
        "**What are the two models having the highest accuracies?**"
      ],
      "metadata": {
        "id": "g7aagGG_jdF9"
      },
      "id": "g7aagGG_jdF9"
    },
    {
      "cell_type": "markdown",
      "source": [
        "Share Your Zaka here\n",
        "\n",
        "**The two models with the highest accuracies are:\n",
        "Random Forest with an accuracy of 95.66563%\n",
        "SVM with an accuracy of 95.04644%**"
      ],
      "metadata": {
        "id": "ErRc-qA1jnGy"
      },
      "id": "ErRc-qA1jnGy"
    },
    {
      "cell_type": "markdown",
      "source": [
        "**Do you think the difference between them is significant to prefer one over the other? We will be using the z-score test to see if there is a statistical difference between the models. We start by setting the Hypothesis:**\n",
        "\n",
        "Null Hypothesis H0: The two models perform the same\n",
        "\n",
        "\n",
        "Alternate Hypothesis H1: The two models do not perform the same"
      ],
      "metadata": {
        "id": "r7Ox9s14kamt"
      },
      "id": "r7Ox9s14kamt"
    },
    {
      "cell_type": "markdown",
      "source": [
        "With a threshold alfa = 5%, we have a  z alpha/2 = 1.96 according to the z-table shown below:\n",
        "\n",
        "\n",
        "![image.png](data:image/png;base64,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)"
      ],
      "metadata": {
        "id": "3LbUe7bVlfvZ"
      },
      "id": "3LbUe7bVlfvZ"
    },
    {
      "cell_type": "markdown",
      "source": [
        "To calculate the value of z and the variances of the 2 models, we use the following formulas."
      ],
      "metadata": {
        "id": "wysUdVT8l9-B"
      },
      "id": "wysUdVT8l9-B"
    },
    {
      "cell_type": "markdown",
      "source": [
        "<img src=\"https://equatio-api.texthelp.com/svg/%5Csigma%5E2%3D%5Cfrac%7BAcc%5Ccdot%5Cleft(1-Acc%5Cright)%7D%7Bn%7D\" alt=\"sigma squared equals the fraction with numerator A c c times open paren 1 minus A c c close paren and denominator n\">\n",
        "<br><img src=\"https://equatio-api.texthelp.com/svg/Z%5C%20%3D%5C%20%5Cfrac%7B%5Cleft(Acc_1-Acc_2%5Cright)%7D%7B%5Csqrt%7B%5Csigma_1%5E2%2B%5Csigma_2%5E2%7D%7D\" alt=\"Z equals the fraction with numerator open paren A c c sub 1 minus A c c sub 2 close paren and denominator the square root of sigma sub 1 squared plus sigma sub 2 squared\">"
      ],
      "metadata": {
        "id": "Pt5zp-Onl4rb"
      },
      "id": "Pt5zp-Onl4rb"
    },
    {
      "cell_type": "code",
      "source": [
        "# Define the accuracies (replace with actual values)\n",
        "acc1 <- 0.9566563\n",
        "acc2 <- 0.9504644\n",
        "\n",
        "# Get the sample size from the test data\n",
        "test_df_sample_size <- 1000\n",
        "\n",
        "# Calculate the variances\n",
        "var1 <- (acc1 * (1 - acc1)) / test_df_sample_size\n",
        "var2 <- (acc2 * (1 - acc2)) / test_df_sample_size\n",
        "\n",
        "# Compute the z-score\n",
        "z <- (acc1 - acc2) / sqrt(var1 + var2)\n",
        "print(z)\n",
        "\n",
        "# Z value for a 95% confidence level\n",
        "z_alpha_over_2 <- 1.96\n",
        "\n",
        "# Decision rule\n",
        "if (abs(z) < z_alpha_over_2) {\n",
        "  cat('The z value is smaller than the Z threshold, which means we fail to reject the null hypothesis, the difference in the accuracies is not significant.')\n",
        "} else {\n",
        "  cat('The z value is greater than the Z threshold, which means we reject the null hypothesis, the difference in the accuracies is significant. Thus, the model with the higher accuracy is indeed better than the other model.')\n",
        "}"
      ],
      "metadata": {
        "id": "FoUMw4oykBga",
        "colab": {
          "base_uri": "https://localhost:8080/"
        },
        "outputId": "fadc5a25-7bfe-47f9-9336-81b309938a51"
      },
      "id": "FoUMw4oykBga",
      "execution_count": null,
      "outputs": [
        {
          "output_type": "stream",
          "name": "stdout",
          "text": [
            "[1] 0.6580174\n",
            "The z value is smaller than the Z threshold, which means we fail to reject the null hypothesis, the difference in the accuracies is not significant."
          ]
        }
      ]
    }
  ],
  "metadata": {
    "colab": {
      "provenance": []
    },
    "kernelspec": {
      "display_name": "R",
      "name": "ir"
    },
    "language_info": {
      "name": "R"
    }
  },
  "nbformat": 4,
  "nbformat_minor": 5
}